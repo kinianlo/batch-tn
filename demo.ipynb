{
 "cells": [
  {
   "cell_type": "code",
   "execution_count": 1,
   "id": "7d037243",
   "metadata": {},
   "outputs": [],
   "source": [
    "from batch_contract import batch_contract\n",
    "import numpy as np\n",
    "import cotengra as ctg"
   ]
  },
  {
   "cell_type": "code",
   "execution_count": 8,
   "id": "b44d889f",
   "metadata": {},
   "outputs": [],
   "source": [
    "eqs = ['i,ij,jk->k', 'i,ij,jk,kl->l']* 10\n",
    "size_dict = lambda _: 10\n",
    "shapes_list = [[tuple(size_dict(s) for s in term) for term in eq.split('->', 1)[0].split(',')] for eq in eqs]\n",
    "trees = [ctg.einsum_tree(eq, *shapes) for eq, shapes in zip(eqs, shapes_list)]\n",
    "\n",
    "arrays = [[np.random.rand(*shape) for shape in shapes] for shapes in shapes_list]"
   ]
  },
  {
   "cell_type": "code",
   "execution_count": 9,
   "id": "dce7786d",
   "metadata": {},
   "outputs": [
    {
     "name": "stdout",
     "output_type": "stream",
     "text": [
      "Contracting with signature: ('a,ab->b', (10,), (10, 10)) using equation: ...a,...ab->...b on a batch of 20 contractions\n",
      "Contracting with signature: ('a,ab->b', (10,), (10, 10)) using equation: ...a,...ab->...b on a batch of 20 contractions\n",
      "Contracting with signature: ('a,ab->b', (10,), (10, 10)) using equation: ...a,...ab->...b on a batch of 10 contractions\n"
     ]
    },
    {
     "data": {
      "text/plain": [
       "[(10,),\n",
       " (10,),\n",
       " (10,),\n",
       " (10,),\n",
       " (10,),\n",
       " (10,),\n",
       " (10,),\n",
       " (10,),\n",
       " (10,),\n",
       " (10,),\n",
       " (10,),\n",
       " (10,),\n",
       " (10,),\n",
       " (10,),\n",
       " (10,),\n",
       " (10,),\n",
       " (10,),\n",
       " (10,),\n",
       " (10,),\n",
       " (10,)]"
      ]
     },
     "execution_count": 9,
     "metadata": {},
     "output_type": "execute_result"
    }
   ],
   "source": [
    "results = batch_contract(\n",
    "    trees,\n",
    "    arrays,\n",
    ")\n",
    "\n",
    "[r.shape for r in results]  # Should show the shapes of the results"
   ]
  },
  {
   "cell_type": "code",
   "execution_count": 4,
   "id": "5cca48e3",
   "metadata": {},
   "outputs": [
    {
     "name": "stdout",
     "output_type": "stream",
     "text": [
      "Contracting with signature: ('ab,bc->ac', (4, 4), (4, 4)) using equation: ...ab,...bc->...ac on a batch of 3 contractions\n"
     ]
    },
    {
     "data": {
      "text/plain": [
       "[array([[1.1651969 , 0.9602376 , 1.15471767, 1.17961702],\n",
       "        [1.41822109, 0.98635032, 1.08431611, 1.31543619],\n",
       "        [0.67544085, 0.48925144, 0.58664026, 0.57899704],\n",
       "        [1.04284168, 1.18202541, 1.14536717, 1.52871542]]),\n",
       " array([[0.48413404, 0.44700472, 0.44777927, 0.32208078],\n",
       "        [1.1617035 , 1.21904395, 1.33157163, 0.92418712],\n",
       "        [1.12551364, 1.02396822, 0.90748435, 0.38992954],\n",
       "        [1.3969907 , 1.54010637, 1.42467733, 0.61303023]]),\n",
       " array([[0.80168209, 0.82726897, 1.11377042, 1.15731538],\n",
       "        [0.44353601, 0.52315623, 1.05424469, 1.08114922],\n",
       "        [0.72618403, 0.78056812, 1.40384195, 1.12202053],\n",
       "        [1.03191889, 1.28917566, 1.19600154, 1.01709888]])]"
      ]
     },
     "execution_count": 4,
     "metadata": {},
     "output_type": "execute_result"
    }
   ],
   "source": [
    "import numpy as np\n",
    "import cotengra as ctg\n",
    "from batch_contract import batch_contract\n",
    "\n",
    "\n",
    "trees = [\n",
    "    ctg.einsum_tree('ij,jk->ik', *[(4, 4), (4, 4)]),\n",
    "    ctg.einsum_tree('ij,jk->ik', *[(4, 4), (4, 4)]),\n",
    "    ctg.einsum_tree('ab,bc->ac', *[(4, 4), (4, 4)])\n",
    "]\n",
    "\n",
    "arrays = [\n",
    "    [np.random.rand(4, 4), np.random.rand(4, 4)],\n",
    "    [np.random.rand(4, 4), np.random.rand(4, 4)],\n",
    "    [np.random.rand(4, 4), np.random.rand(4, 4)]\n",
    "]\n",
    "\n",
    "batch_contract(trees, arrays=arrays)"
   ]
  }
 ],
 "metadata": {
  "kernelspec": {
   "display_name": "lambeq13",
   "language": "python",
   "name": "python3"
  },
  "language_info": {
   "codemirror_mode": {
    "name": "ipython",
    "version": 3
   },
   "file_extension": ".py",
   "mimetype": "text/x-python",
   "name": "python",
   "nbconvert_exporter": "python",
   "pygments_lexer": "ipython3",
   "version": "3.13.4"
  }
 },
 "nbformat": 4,
 "nbformat_minor": 5
}
